{
 "cells": [
  {
   "cell_type": "code",
   "execution_count": 2,
   "id": "30e8a2fe",
   "metadata": {},
   "outputs": [
    {
     "name": "stdout",
     "output_type": "stream",
     "text": [
      "Fibonacci sequence:\n",
      "0\n",
      "1\n",
      "1\n",
      "2\n",
      "3\n",
      "5\n",
      "8\n",
      "13\n",
      "21\n",
      "34\n"
     ]
    }
   ],
   "source": [
    "def r_fibo(n):\n",
    "   if n <= 1:\n",
    "       return n\n",
    "   else:\n",
    "       return(r_fibo(n-1) + r_fibo(n-2))\n",
    "\n",
    "nterms = 10\n",
    "\n",
    "if nterms <= 0:\n",
    "   print(\"Plese enter a positive integer\")\n",
    "else:\n",
    "   print(\"Fibonacci sequence:\")\n",
    "   for i in range(nterms):\n",
    "       print(r_fibo(i))"
   ]
  },
  {
   "cell_type": "code",
   "execution_count": 5,
   "id": "5011a1fc",
   "metadata": {},
   "outputs": [
    {
     "name": "stdout",
     "output_type": "stream",
     "text": [
      "User Input : 9\n",
      "The factorial of 9 is 362880\n"
     ]
    }
   ],
   "source": [
    "def r_factorial(n):\n",
    "  if n == 1:\n",
    "     return n\n",
    "  else:\n",
    "     return n*r_factorial(n-1)     \n",
    "\n",
    "number = int(input(\"User Input : \"))\n",
    "print(\"The factorial of\", number, \"is\", r_factorial(number))"
   ]
  },
  {
   "cell_type": "code",
   "execution_count": 23,
   "id": "6253b39e",
   "metadata": {},
   "outputs": [
    {
     "name": "stdout",
     "output_type": "stream",
     "text": [
      "The BMI is 21.604938271604937 so Healthy\n"
     ]
    }
   ],
   "source": [
    "def BMI(height, weight):\n",
    "    bmi = weight/(height**2)\n",
    "    return bmi\n",
    "\n",
    "height = 1.8\n",
    "weight = 70\n",
    "\n",
    "bmi = BMI(height, weight)\n",
    "print(\"The BMI is\", format(bmi), \"so \", end='')\n",
    "\n",
    "if (bmi < 18.5):\n",
    "\tprint(\"underweight\")\n",
    "elif ( bmi >= 18.5 and bmi < 24.9):\n",
    "\tprint(\"Healthy\")\n",
    "elif ( bmi >= 24.9 and bmi < 30):\n",
    "\tprint(\"overweight\")\n",
    "elif ( bmi >=30):\n",
    "\tprint(\"Suffering from Obesity\")"
   ]
  },
  {
   "cell_type": "code",
   "execution_count": 68,
   "id": "4dfaba10",
   "metadata": {},
   "outputs": [
    {
     "name": "stdout",
     "output_type": "stream",
     "text": [
      "Enter weight: 70\n",
      "Enter hight: 1.8\n",
      "The BMI is 21.604938271604937 so Healthy\n"
     ]
    }
   ],
   "source": [
    "def BMI(h,w):\n",
    "    bmi=w/h**2\n",
    "    return bmi\n",
    "\n",
    "w = float(input(\"Enter weight: \"))\n",
    "h = float(input(\"Enter hight: \"))\n",
    "\n",
    "bmi =BMI(h,w)\n",
    "print(\"The BMI is\",format(bmi),\"so\" , end =\" \")\n",
    "\n",
    "if bmi >=18.5:\n",
    "    if bmi >=24.9:\n",
    "        if bmi >=30:\n",
    "            print(\"Suffering from Obesity\")\n",
    "        else:\n",
    "            print(\"Over weight\")\n",
    "    else:\n",
    "        print(\"Healthy\")\n",
    "else:\n",
    "    print(\"under weight\")"
   ]
  },
  {
   "cell_type": "code",
   "execution_count": 71,
   "id": "917d75ed",
   "metadata": {},
   "outputs": [
    {
     "name": "stdout",
     "output_type": "stream",
     "text": [
      "Enter the number: 55\n",
      "The value is: 4.007333185232471\n"
     ]
    }
   ],
   "source": [
    "import math\n",
    "number = int(input(\"Enter the number: \"))\n",
    "ans = math.log(number)\n",
    "print(\"The value is:\",ans)"
   ]
  },
  {
   "cell_type": "code",
   "execution_count": 84,
   "id": "74f87b05",
   "metadata": {},
   "outputs": [
    {
     "name": "stdout",
     "output_type": "stream",
     "text": [
      "Enter a number: 5\n",
      "36\n"
     ]
    }
   ],
   "source": [
    "def sum(n):\n",
    "   sum = 0\n",
    "   for i in range(1, n+1):\n",
    "      sum +=i*i*i\n",
    "   return sum\n",
    "x =int(input(\"Enter a number: \"))\n",
    "print(sum(n))"
   ]
  },
  {
   "cell_type": "code",
   "execution_count": null,
   "id": "311fa141",
   "metadata": {},
   "outputs": [],
   "source": []
  }
 ],
 "metadata": {
  "kernelspec": {
   "display_name": "Python 3 (ipykernel)",
   "language": "python",
   "name": "python3"
  },
  "language_info": {
   "codemirror_mode": {
    "name": "ipython",
    "version": 3
   },
   "file_extension": ".py",
   "mimetype": "text/x-python",
   "name": "python",
   "nbconvert_exporter": "python",
   "pygments_lexer": "ipython3",
   "version": "3.9.7"
  }
 },
 "nbformat": 4,
 "nbformat_minor": 5
}
